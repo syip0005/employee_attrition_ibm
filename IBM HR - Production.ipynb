{
 "cells": [
  {
   "cell_type": "markdown",
   "id": "375fb0e1",
   "metadata": {},
   "source": [
    "# Production!!!\n",
    "\n",
    "Now this is the part I wanted to practice the most as I've not seen this in any courses (through Udemy) or Kaggle articles.\n",
    "\n",
    "To get started I read the article here which details the methods in which a model can be deployed, refer <a href='https://www.kdnuggets.com/2019/06/approaches-deploying-machine-learning-production.html'>here</a>.\n",
    "\n",
    "In summary, decisions need to be made for:\n",
    "\n",
    "* <b>Training</b>: batch or real time?\n",
    "* <b>Prediction</b>: batch or real time?\n",
    "* <b>Serve Approach</b>: rely on DBMS, pub/sub model, web service or inApp?\n",
    "\n",
    "It really depends on management's usecase for this employee churn model.\n",
    "\n",
    "For the purposes of practicing I'm going to assume that the model:\n",
    "\n",
    "* is used weekly for supervisors to review employee risk\n",
    "* is used at year end for calculating probabilities of leave payout\n",
    "\n",
    "In both cases, training and prediction simply need to be batch.\n",
    "\n",
    "For the production method, DBMS is not appropriate as we don't have a DBMS specified, pub/sub model is not appropriate as we don't know what the implementation of this will look like.\n",
    "\n",
    "As such, we will provide it via a web service.\n",
    "\n",
    "So the steps I have taken are:\n",
    "\n",
    "1) Create the Flask app in app.py\n",
    "2) Perform data transformation\n",
    "3) Export the results in a .csv file\n",
    "4) Host into Amazon\n",
    "\n",
    "and it's alive!!\n",
    "\n",
    "Hosted on: http://3.15.207.47:8080/!!!!"
   ]
  }
 ],
 "metadata": {
  "kernelspec": {
   "display_name": "Python 3",
   "language": "python",
   "name": "python3"
  },
  "language_info": {
   "codemirror_mode": {
    "name": "ipython",
    "version": 3
   },
   "file_extension": ".py",
   "mimetype": "text/x-python",
   "name": "python",
   "nbconvert_exporter": "python",
   "pygments_lexer": "ipython3",
   "version": "3.8.8"
  }
 },
 "nbformat": 4,
 "nbformat_minor": 5
}
